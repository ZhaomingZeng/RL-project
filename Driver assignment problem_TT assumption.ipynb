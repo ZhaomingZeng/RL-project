{
 "cells": [
  {
   "cell_type": "code",
   "execution_count": null,
   "id": "915c9c5b-9643-49dc-ba81-3a9c1ca20e05",
   "metadata": {
    "execution": {
     "iopub.execute_input": "2024-10-28T21:31:39.297657Z",
     "iopub.status.busy": "2024-10-28T21:31:39.296916Z",
     "iopub.status.idle": "2024-10-28T21:31:41.402239Z",
     "shell.execute_reply": "2024-10-28T21:31:41.401643Z",
     "shell.execute_reply.started": "2024-10-28T21:31:39.297602Z"
    }
   },
   "outputs": [],
   "source": [
    "import gurobipy as gp\n",
    "from gurobipy import GRB\n",
    "import numpy as np\n",
    "from scipy.stats import norm\n",
    "import matplotlib.pyplot as plt\n",
    "from scipy.stats import norm\n",
    "import itertools\n",
    "import math\n",
    "import scipy.stats\n",
    "\n",
    "\n",
    "#gurobi key\n",
    "options = {\n",
    "    \"WLSACCESSID\": \"de118b04-39b7-495b-b954-d47d9094c228\",\n",
    "    \"WLSSECRET\": \"56fa884f-d64a-4bee-bf23-8d247f2990ec\",\n",
    "    \"LICENSEID\": 2581233,\n",
    "}"
   ]
  },
  {
   "cell_type": "markdown",
   "id": "1d69ed9e-30fd-48aa-9b69-e007893ab614",
   "metadata": {},
   "source": [
    "## Mock data"
   ]
  },
  {
   "cell_type": "code",
   "execution_count": null,
   "id": "6d017027",
   "metadata": {},
   "outputs": [],
   "source": [
    "s_i= [0.71525707, 0.68319123, 0.8393927 , 0.76182247, 0.87573982,\n",
    "       0.40073661, 0.82796312, 0.59724565, 0.38934696, 0.65373446,\n",
    "       0.52556782, 0.64348453, 0.88315713, 0.63206879, 1.0777517 ,\n",
    "       0.8088764 , 0.81647999, 0.88153565, 0.792893  , 0.78000662,\n",
    "       0.7997215 , 0.28656563, 0.71634435, 1.05010094, 0.65473358,\n",
    "       0.62464865, 0.66699049, 0.53609337, 0.8043781 ]\n",
    "#road characteristic\n",
    "alpha_i = [0.0525, 0.0725, 0.0725, 0.0725, 0.0725, 0.0525, 0.0525, 0.0525,\n",
    "       0.0625, 0.0625, 0.0725, 0.0725, 0.0525, 0.0625, 0.0725, 0.0525,\n",
    "       0.0625, 0.0525, 0.0725, 0.0725, 0.0625, 0.0725, 0.0725, 0.0725,\n",
    "       0.0525, 0.0525, 0.0625, 0.0525, 0.0625]\n",
    "beta_i= [0.007, 0.005, 0.003, 0.007, 0.003, 0.003, 0.007, 0.007, 0.003,\n",
    "       0.005, 0.003, 0.005, 0.007, 0.003, 0.003, 0.005, 0.003, 0.003,\n",
    "       0.007, 0.005, 0.005, 0.005, 0.003, 0.005, 0.005, 0.003, 0.005,\n",
    "       0.007, 0.005]#np.random.choice([0.0035,0.0025], 30-1)"
   ]
  },
  {
   "cell_type": "code",
   "execution_count": null,
   "id": "92b4704e",
   "metadata": {},
   "outputs": [],
   "source": [
    "# Initialize plot\n",
    "plt.figure(figsize=(10, 6))\n",
    "\n",
    "for i in range(29):\n",
    "    mean = s_i[i] * alpha_i[i]\n",
    "    variance = s_i[i] * beta_i[i] ** 2\n",
    "    #print(\"i=\", i, \" mean=\", mean, \" variance=\", variance)\n",
    "    \n",
    "    mu = mean\n",
    "    sigma = math.sqrt(variance)\n",
    "    \n",
    "    # Create x values\n",
    "    x = np.linspace(mu - 2.5*sigma, mu + 2.5*sigma, 100)*60\n",
    "    plt.plot(x, scipy.stats.norm.pdf(x/60, mu, sigma) ,label=i)\n",
    "\n",
    "# Customize the plot\n",
    "plt.title('Normal Distribution PDFs')\n",
    "plt.xlabel('Travel times between stations (min)')\n",
    "plt.ylabel('Probability Density')\n",
    "plt.legend()\n",
    "plt.grid()\n",
    "plt.show()  # Call show() after the loop to display all figures"
   ]
  },
  {
   "cell_type": "code",
   "execution_count": null,
   "id": "61cc9f12-3540-4596-98ef-2cbedf8dd6f6",
   "metadata": {
    "execution": {
     "iopub.execute_input": "2024-10-28T21:31:44.333104Z",
     "iopub.status.busy": "2024-10-28T21:31:44.331633Z",
     "iopub.status.idle": "2024-10-28T21:31:44.403688Z",
     "shell.execute_reply": "2024-10-28T21:31:44.403128Z",
     "shell.execute_reply.started": "2024-10-28T21:31:44.333019Z"
    }
   },
   "outputs": [],
   "source": [
    "# data preparation\n",
    "#set\n",
    "M,N= 10,6\n",
    "I=list(range(M))\n",
    "J=list(range(N))\n",
    "D=list(range(4))\n",
    "\n",
    "#parameter\n",
    "headway_scheduled=0.2\n",
    "sigma_scheduled=0.005 ### check\n",
    "alpha_instability=5\n",
    "\n",
    "#segment distance\n",
    "s_i= [0.71525707, 0.68319123, 0.8393927 , 0.76182247, 0.87573982,\n",
    "       0.40073661, 0.82796312, 0.59724565, 0.38934696, 0.65373446,\n",
    "       0.52556782, 0.64348453, 0.88315713, 0.63206879, 1.0777517 ,\n",
    "       0.8088764 , 0.81647999, 0.88153565, 0.792893  , 0.78000662,\n",
    "       0.7997215 , 0.28656563, 0.71634435, 1.05010094, 0.65473358,\n",
    "       0.62464865, 0.66699049, 0.53609337, 0.8043781 ]\n",
    "#road characteristic\n",
    "alpha_i = [0.0525, 0.0725, 0.0725, 0.0725, 0.0725, 0.0525, 0.0525, 0.0525,\n",
    "       0.0625, 0.0625, 0.0725, 0.0725, 0.0525, 0.0625, 0.0725, 0.0525,\n",
    "       0.0625, 0.0525, 0.0725, 0.0725, 0.0625, 0.0725, 0.0725, 0.0725,\n",
    "       0.0525, 0.0525, 0.0625, 0.0525, 0.0625]\n",
    "beta_i= [0.007, 0.005, 0.003, 0.007, 0.003, 0.003, 0.007, 0.007, 0.003,\n",
    "       0.005, 0.003, 0.005, 0.007, 0.003, 0.003, 0.005, 0.003, 0.003,\n",
    "       0.007, 0.005, 0.005, 0.005, 0.003, 0.005, 0.005, 0.003, 0.005,\n",
    "       0.007, 0.005]#np.random.choice([0.0035,0.0025], 30-1)\n",
    "\n",
    "#demand stats\n",
    "N_w=[26, 30, 20, 29, 20, 18, 38, 20, 29, 14, 0, 14, 27, 8, 19, 1, 30, 17, 30, 26, 19, 26, 2, 7, 22, 10, 25, 8, 4, 0, 32, 14, 0, 36, 29, 11, 19, 1, 11, 8, 9, 21, 0, 42, 18, 21, 9, 7, 2, 1, 15, 0, 26, 7, 17, 45, 32, 10, 29, 26, 29, 19, 8, 19, 18, 28, 20, 34, 15, 24, 9, 19, 23, 14, 33, 35, 36, 12, 18, 18, 16, 29, 20, 11, 20, 0, 8, 25, 33, 35, 25, 8, 7, 19, 53, 22, 34, 34, 22, 37, 31, 20, 8, 35, 0, 30, 38, 27, 11, 15, 2, 27, 9, 38, 19, 29, 26, 18, 3, 10, 32, 26, 10, 28, 12, 21, 55, 16, 23, 24, 15, 41, 5, 12, 21, 3, 27, 17, 5, 21]\n",
    "N_w=N_w[:M]\n",
    "capacity=50\n",
    "N_f=[0 if i <capacity else i-capacity  for i in N_w]\n",
    "N_w=[50 if i>capacity else i for i in N_w]\n",
    "\n",
    "#control stop set, the largest demand stop\n",
    "K=np.array(N_w).argsort().tolist()[::-1][:int(M/3)]\n",
    "K.sort()\n",
    "\n",
    "# driver type\n",
    "mu_d=[1,1,1,1]\n",
    "sigma_d=[1.2, 0.8,0.8,1.2]\n",
    "CS_d=[0.7,1,0.7,1]\n",
    "\n",
    "#driver type assignment count\n",
    "f_d=[2,1,1,2]"
   ]
  },
  {
   "cell_type": "markdown",
   "id": "2ce40b12-19f9-4459-b978-77417a79e314",
   "metadata": {},
   "source": [
    "## Optimization formulation"
   ]
  },
  {
   "cell_type": "code",
   "execution_count": null,
   "id": "587efe22",
   "metadata": {},
   "outputs": [],
   "source": [
    "# MIP formulation\n",
    "with gp.Env(params=options) as env, gp.Model(env=env) as model:\n",
    "    \n",
    "    #variable \n",
    "    E_h=model.addVars(list(itertools.product(I, J)), name=\"E_h\")\n",
    "    VAR_h=model.addVars(list(itertools.product(I, J)), name=\"VAR_h\")\n",
    "\n",
    "    mu=model.addVars(J, name=\"mu\")\n",
    "    sigma=model.addVars(J ,lb=0, name=\"sigma\")\n",
    "\n",
    "    Mu=model.addVars(list(itertools.product(I, J )), lb=0, name=\"Mu\")\n",
    "    Sigma=model.addVars(list(itertools.product(I , J)), name=\"Sigma\")\n",
    "\n",
    "    pdf=model.addVars(list(itertools.product(I, J)),  name=\"pdf\")\n",
    "    cdf=model.addVars(list(itertools.product(I, J)),  name=\"cdf\")\n",
    "\n",
    "    E_w=model.addVars(list(itertools.product(I, J)), name=\"E_w\")\n",
    "    z=model.addVars(list(itertools.product(D, J)), vtype=GRB.BINARY, name=\"z\")\n",
    "\n",
    "\n",
    "    #auxiliary variable \n",
    "    Sigma_square=model.addVars(list(itertools.product(I, J)), lb=0, name=\"Sigma_square\")\n",
    "    Std=model.addVars(list(itertools.product(I, J)), name=\"sigma_square\")\n",
    "    pdf_by_1_n_cdf=model.addVars(list(itertools.product(I, J)), name=\"pdf_by_1_n_cdf\")\n",
    "    Std_pdf_by_1_n_cdf=model.addVars(list(itertools.product(I, J)), name=\"Std_pdf_by_1_n_cdf\")\n",
    "    pdf_by_1_n_cdf_square=model.addVars(list(itertools.product(I, J)),lb=0,  name=\"pdf_by_1_n_cdf_square\")\n",
    "\n",
    "    E_h_square=model.addVars(list(itertools.product(I, J)),lb=0, name=\"E_h_square\")\n",
    "    COV=model.addVars(list(itertools.product(I, J)), name=\"E_h_square\")\n",
    "\n",
    "\n",
    "    \n",
    "\n",
    "    #constraints \n",
    "    for i in I:\n",
    "        model.addConstr( E_h[i, 0] == headway_scheduled, name='E_h' + \"(\" + str(i) +\",0 )\")\n",
    "        model.addConstr( VAR_h[i, 0] == sigma_scheduled**2, name='VAR_h' + \"(\" + str(i) +\",0 )\")\n",
    "       # model.addConstr( Mu[i, 0] == headway_scheduled, name='Mu' + \"(\" + str(i) +\",0 )\")\n",
    "        #model.addConstr( Sigma[i, 0] == sigma_scheduled**2, name='Sigma' + \"(\" + str(i) +\",0 )\")\n",
    "\n",
    "    for j  in J[1:]:\n",
    "        model.addConstr( E_h[0, j] == headway_scheduled, name='E_h' + \"(0,\" +str(i) +\" )\")\n",
    "        model.addConstr( VAR_h[0, j] == sigma_scheduled**2, name='VAR_h' +\"(0,\" +str(i) +\" )\")\n",
    "        #model.addConstr( Mu[0, j] == headway_scheduled, name='Mu' + \"(0,\" +str(i) +\" )\")\n",
    "        #model.addConstr( Sigma[0, j] == sigma_scheduled**2, name='Sigma' +\"(0,\" +str(i) +\" )\")\n",
    "        \n",
    "\n",
    "    #Var(h_ij) and E(h_ij)\n",
    "    for i in I[1:]:\n",
    "        for j in J[1:]:\n",
    "            model.addConstr(E_h[i,j]==Mu[i,j]+Sigma[i,j]* pdf_by_1_n_cdf[i,j]\n",
    "                            , name='E_h' + \"(\" + str(i) + \",\" +str(j)+\")\")\n",
    "            model.addConstr(VAR_h[i,j]== Sigma_square[i,j]*(1-Std_pdf_by_1_n_cdf[i,j]-pdf_by_1_n_cdf_square[i,j] ),\n",
    "                              name='VAR_h' + \"(\" + str(i) + \",\" +str(j)+\")\")\n",
    "\n",
    "    # Mu, Sigma\n",
    "    for i in I[1:]:\n",
    "        for j in J[1:]:\n",
    "            model.addConstr( Mu[i,j]==E_h[i-1,j]+E_w[i-1,j]-E_w[i-1,j-1]+alpha_i[i-1]*s_i[i-1]*(mu[j]- mu[j-1]) \n",
    "                           , name='Mu' + \"(\" + str(i) + \",\" +str(j)+\")\")\n",
    "           \n",
    "            model.addConstr( Sigma_square[i,j]== beta_i[i-1]**2 *s_i[i-1]*(sigma[j]**2 +sigma[j-1]**2)\n",
    "                           , name='sigma_square' + \"(\" + str(i) + \",\" +str(j)+\")\")\n",
    "            \n",
    "    #mu, sigma\n",
    "    for j in J:\n",
    "        model.addConstr( mu[j] == gp.quicksum(z[d,j]* mu_d[d] for d in D), name='mu' + \"(\" + str(j) + \")\")\n",
    "        model.addConstr( sigma[j] == gp.quicksum(z[d,j]* sigma_d[d] for d in D), name='sigma' + \"(\" + str(j) + \")\") \n",
    "\n",
    "    #E_w\n",
    "    for i in  K:\n",
    "        for j in J[1:]:\n",
    "             model.addConstr( E_w[i,j]==gp.quicksum(z[d,j]* CS_d[d]*(headway_scheduled- E_h[i,j]+ E_w[i,j-1])   for d in D)\n",
    "                           , name='E_w' + \"(\" + str(i) + \",\" +str(j)+\")\")\n",
    "    \n",
    "    for i in I:\n",
    "        if i not in K:\n",
    "            model.addConstr( E_w[i,0]==0 , name='E_w' + \"(\" + str(i) + \",\" +str(0)+\")\")\n",
    "    \n",
    "    #z[d,j]\n",
    "    for j in J:\n",
    "        model.addConstr( gp.quicksum(z[d,j] for d in D)==1 , name='z' + \"(\"  +str(j)+\")\")\n",
    "    \n",
    "    for d in D:\n",
    "        model.addConstr( gp.quicksum(z[d,j] for j in J)==f_d[d] , name='z_supply' + \"(\"  +str(d)+\")\")\n",
    "\n",
    "    #fixed z_d_j\n",
    "    para_z=np.zeros((len(D), len(J)))\n",
    "    para_z[0,:2]=1\n",
    "    para_z[1,2]=1\n",
    "    para_z[2,3]=1\n",
    "    para_z[3,4:]=1\n",
    "    for d in D:\n",
    "        for j in J:\n",
    "            model.addConstr(z[d,j]==int(para_z[d,j] ), name='fixed z' + \"(\" + str(d)+\",\"+str(j) + \")\")\n",
    "\n",
    "    #pdf, cdf        \n",
    "    for i in I:\n",
    "        for j in J:\n",
    "            model.addGenConstrPWL(Std[i,j], cdf[i,j], [-10.0, -2.04, -0.96, 0.96, 2.04, 10.0],\n",
    "                                   [-0.002, 0.004, 0.148, 0.852, 0.996, 1.002])\n",
    "            model.addGenConstrPWL(Std[i,j], pdf[i,j],[-10.0, -2.71, -1.78, -0.3, 0.3, 1.78, 2.72, 10.0]\n",
    "                                  ,[-0.001, 0.002, 0.072, 0.393, 0.393, 0.071, 0.002, 0] )\n",
    "\n",
    "    \n",
    "\n",
    "    #auciliary constraints\n",
    "    for i in I:\n",
    "        for j in J:\n",
    "            model.addConstr(Mu[i,j]==Sigma[i,j]*Std[i,j] , name='Std' + \"(\" + str(i)+\",\"+str(j) + \")\")\n",
    "            model.addConstr(pdf_by_1_n_cdf[i,j]*(1-cdf[i,j])==pdf[i,j] , name='pdf_cdf' + \"(\" + str(i)+\",\"+str(j) + \")\")\n",
    "            model.addConstr(pdf_by_1_n_cdf[i,j]*pdf_by_1_n_cdf[i,j]==pdf_by_1_n_cdf_square[i,j] \n",
    "                            , name='pdf_by_1_n_cdf_square' + \"(\" + str(i)+\",\"+str(j) + \")\")\n",
    "            model.addConstr(Std[i,j]*pdf_by_1_n_cdf[i,j]==Std_pdf_by_1_n_cdf[i,j] \n",
    "                            , name='Std_pdf_by_1_n_cdf' + \"(\" + str(i)+\",\"+str(j) + \")\")\n",
    "            \n",
    "\n",
    "    for i in I:\n",
    "        for j in J:\n",
    "            model.addConstr(E_h_square[i,j]==E_h[i,j] *E_h[i,j] \n",
    "                            , name='E_h_square' + \"(\" + str(i)+\",\"+str(j) + \")\")\n",
    "            model.addConstr(COV[i,j]*E_h_square[i,j]==VAR_h[i,j]\n",
    "                            , name='COV' + \"(\" + str(i)+\",\"+str(j) + \")\")\n",
    "            \n",
    "    \n",
    "\n",
    "        \n",
    "\n",
    "    #objective function\n",
    "    obj = model.setObjective(gp.quicksum(0.5*E_h[i,j]*(1+COV[i,j])*N_w[i] +E_h[i,j]*N_f[i] for i in I for j in J)\n",
    "                             + alpha_instability* gp.quicksum(COV[i,j] for j in J)\n",
    "                             , GRB.MINIMIZE)\n",
    "\n",
    "    #solve\n",
    "    model.optimize()\n",
    "    if model.status != GRB.Status.OPTIMAL:\n",
    "        print(\"***** Gurobi solve status:\", model.status)\n",
    "        print(\"***** This problem instance does not have an optimal solution\")\n",
    "    else:  # some fancy output formatting; we'll learn what the different components of the output are\n",
    "        print(\" \")\n",
    "        print(\"primal var\")\n",
    "\n"
   ]
  },
  {
   "cell_type": "code",
   "execution_count": null,
   "id": "6d535404",
   "metadata": {},
   "outputs": [],
   "source": [
    "para_z=np.zeros((len(D), len(J)))\n",
    "para_z[0,:2]=1\n",
    "para_z[1,2]=1\n",
    "para_z[2,3:5]=1\n",
    "para_z[3,5]=1"
   ]
  },
  {
   "cell_type": "markdown",
   "id": "27ea1822-7bce-4616-aedc-7a484684f2e9",
   "metadata": {},
   "source": [
    "## process constraints"
   ]
  },
  {
   "cell_type": "markdown",
   "id": "5d6bfa76-acc2-453c-9bf8-61ee524c8d43",
   "metadata": {},
   "source": [
    "## convert normal distribution CDF to general constraints"
   ]
  },
  {
   "cell_type": "markdown",
   "id": "034608b6-bc7b-4bb1-be8d-d469fd1a9e17",
   "metadata": {},
   "source": [
    "### Summation of small inteval"
   ]
  },
  {
   "cell_type": "markdown",
   "id": "eff8d5c0-10fa-4f1a-a70c-e09caa9cc2a2",
   "metadata": {},
   "source": [
    "### Polynomial function"
   ]
  },
  {
   "cell_type": "code",
   "execution_count": null,
   "id": "d24873e3-434a-4740-a653-bcac8de359dc",
   "metadata": {
    "execution": {
     "iopub.execute_input": "2024-08-02T10:35:44.792991Z",
     "iopub.status.busy": "2024-08-02T10:35:44.790701Z",
     "iopub.status.idle": "2024-08-02T10:35:45.004865Z",
     "shell.execute_reply": "2024-08-02T10:35:45.003579Z",
     "shell.execute_reply.started": "2024-08-02T10:35:44.792892Z"
    }
   },
   "outputs": [],
   "source": [
    "import numpy as np\n",
    "from pylab import *\n",
    "\n",
    "# Create some test data\n",
    "dx = 0.01\n",
    "X  = np.arange(-2, 2, dx)\n",
    "Y  = np.exp(-X ** 2)\n",
    "\n",
    "# Normalize the data to a proper PDF\n",
    "Y /= (dx * Y).sum()\n",
    "\n",
    "# Compute the CDF\n",
    "CY = np.cumsum(Y * dx)\n",
    "\n",
    "# Plot both\n",
    "plot(X, Y)\n",
    "plot(X, CY, 'r--')\n"
   ]
  },
  {
   "cell_type": "code",
   "execution_count": null,
   "id": "490f0825-0b78-466c-a464-afa9da8ca96d",
   "metadata": {
    "execution": {
     "iopub.execute_input": "2024-08-13T04:45:44.216906Z",
     "iopub.status.busy": "2024-08-13T04:45:44.216365Z",
     "iopub.status.idle": "2024-08-13T04:45:44.685987Z",
     "shell.execute_reply": "2024-08-13T04:45:44.685605Z",
     "shell.execute_reply.started": "2024-08-13T04:45:44.216868Z"
    }
   },
   "outputs": [],
   "source": [
    "import numpy as np\n",
    "import matplotlib.pyplot as plt\n",
    "import scipy.stats\n",
    "from scipy.stats import norm\n",
    "\n",
    "# Creating x-coordinates\n",
    "x=np.linspace(-10,10,10000)\n",
    "# Degree 2 equation\n",
    "y=norm.cdf(x)\n",
    "\n",
    "plt.scatter(x, y)\n",
    "plt.xlabel(\"X-values\")\n",
    "plt.ylabel(\"Y-values\")\n",
    "\n",
    "\n",
    "# Using polyfit() to generate coefficients\n",
    "error=[]\n",
    "y_pred={}\n",
    "p={}\n",
    "for degree in range(20):\n",
    "    p[degree] = np.polyfit(x, y, degree)  # Last argument is degree of polynomial\n",
    "    \n",
    "    \n",
    "    \n",
    "    # poly1d helps to define a polynomial function\n",
    "    predict = np.poly1d(p[degree])\n",
    "    # Test value\n",
    "    y_pred[degree] = predict(x)\n",
    "    \n",
    "    score= sum([(y_pred[degree][i]-y[i] )**2  for i in range(len(x))])\n",
    "    error.append(score)\n",
    "\n",
    "choice_degree=4\n",
    "plt.plot(x, y_pred[choice_degree],\"r\")\n",
    "print(\"Selected degree=\",choice_degree,\"\\n\", \"Coeficient values:\", p[choice_degree])"
   ]
  },
  {
   "cell_type": "code",
   "execution_count": null,
   "id": "f0128703-459f-413f-a5df-a61bfa6bc50b",
   "metadata": {
    "execution": {
     "iopub.execute_input": "2024-08-02T12:18:47.995361Z",
     "iopub.status.busy": "2024-08-02T12:18:47.994791Z",
     "iopub.status.idle": "2024-08-02T12:18:48.003535Z",
     "shell.execute_reply": "2024-08-02T12:18:48.001894Z",
     "shell.execute_reply.started": "2024-08-02T12:18:47.995322Z"
    }
   },
   "outputs": [],
   "source": [
    "print(norm.cdf(-2.5)*100,norm.cdf(2.5)*100)"
   ]
  },
  {
   "cell_type": "code",
   "execution_count": null,
   "id": "db940ba0-a53b-450e-8949-ae1a55703c98",
   "metadata": {
    "execution": {
     "iopub.execute_input": "2024-08-02T12:18:48.763058Z",
     "iopub.status.busy": "2024-08-02T12:18:48.762498Z",
     "iopub.status.idle": "2024-08-02T12:18:48.908087Z",
     "shell.execute_reply": "2024-08-02T12:18:48.907444Z",
     "shell.execute_reply.started": "2024-08-02T12:18:48.763020Z"
    }
   },
   "outputs": [],
   "source": [
    "plt.plot(list(range(20)), error,\"r\")\n",
    "plt.title(\" error by degree\")"
   ]
  },
  {
   "cell_type": "markdown",
   "id": "7835c66b-c19a-44f3-b900-8cf53a7bcd2f",
   "metadata": {},
   "source": [
    "### piecewise-linear function"
   ]
  },
  {
   "cell_type": "code",
   "execution_count": null,
   "id": "485630a3-0cc3-4419-b262-f5c7f779a976",
   "metadata": {
    "execution": {
     "iopub.execute_input": "2024-08-13T04:46:28.890029Z",
     "iopub.status.busy": "2024-08-13T04:46:28.889478Z",
     "iopub.status.idle": "2024-08-13T05:01:21.875547Z",
     "shell.execute_reply": "2024-08-13T05:01:21.874228Z",
     "shell.execute_reply.started": "2024-08-13T04:46:28.889992Z"
    }
   },
   "outputs": [],
   "source": [
    "import numpy as np\n",
    "import matplotlib.pyplot as plt\n",
    "import pwlf\n",
    "\n",
    "\n",
    "x=np.linspace(-10,10,1000)\n",
    "y=norm.cdf(x)\n",
    "\n",
    "degrees=list(range(3,10))\n",
    "my_pwlf={}\n",
    "y_hat={}\n",
    "score={}\n",
    "\n",
    "for degree in degrees:\n",
    "    my_pwlf[degree] = pwlf.PiecewiseLinFit(x, y)\n",
    "    breaks = my_pwlf[degree].fit(degree)\n",
    "    print(breaks)\n",
    "\n",
    "    y_hat[degree] = my_pwlf[degree].predict(x)\n",
    "    score[degree]= sum([(y_hat[degree][i]-y[i] )**2  for i in range(len(x))])\n",
    "\n",
    "\n",
    "plt.figure()\n",
    "# plt.plot(x, y, 'o')\n",
    "# plt.plot(x_hat, y_hat, '-')\n",
    "plt.plot(degrees, score, '-')\n",
    "plt.show()"
   ]
  },
  {
   "cell_type": "code",
   "execution_count": null,
   "id": "6aad8029-df51-4da2-ac71-61906f4efa66",
   "metadata": {
    "execution": {
     "iopub.execute_input": "2024-08-05T06:46:11.625786Z",
     "iopub.status.busy": "2024-08-05T06:46:11.624955Z",
     "iopub.status.idle": "2024-08-05T06:46:11.726146Z",
     "shell.execute_reply": "2024-08-05T06:46:11.725536Z",
     "shell.execute_reply.started": "2024-08-05T06:46:11.625701Z"
    },
    "scrolled": true
   },
   "outputs": [],
   "source": [
    "plt.figure()\n",
    "# plt.plot(x, y, 'o')\n",
    "# plt.plot(x_hat, y_hat, '-')\n",
    "plt.plot(score.keys(),score.values(), '-')\n",
    "plt.show()"
   ]
  },
  {
   "cell_type": "code",
   "execution_count": null,
   "id": "ce4371be-fef7-4290-a366-b0375f771057",
   "metadata": {
    "execution": {
     "iopub.execute_input": "2024-08-05T06:48:11.452351Z",
     "iopub.status.busy": "2024-08-05T06:48:11.451784Z",
     "iopub.status.idle": "2024-08-05T06:48:11.573157Z",
     "shell.execute_reply": "2024-08-05T06:48:11.572716Z",
     "shell.execute_reply.started": "2024-08-05T06:48:11.452313Z"
    }
   },
   "outputs": [],
   "source": [
    "plt.figure()\n",
    "plt.plot(x, y, 'o',markersize=3)\n",
    "plt.plot(x, y_hat[5], '-',markersize=0.5, alpha=0.8)\n",
    "plt.show()"
   ]
  },
  {
   "cell_type": "code",
   "execution_count": null,
   "id": "a6d5162b-e689-4a77-a76b-0e694fdd2d7e",
   "metadata": {
    "execution": {
     "iopub.execute_input": "2024-08-05T06:55:27.967785Z",
     "iopub.status.busy": "2024-08-05T06:55:27.966804Z",
     "iopub.status.idle": "2024-08-05T06:55:29.482386Z",
     "shell.execute_reply": "2024-08-05T06:55:29.481637Z",
     "shell.execute_reply.started": "2024-08-05T06:55:27.967710Z"
    }
   },
   "outputs": [],
   "source": [
    "from sympy import Symbol\n",
    "from sympy.utilities import lambdify\n",
    "x = Symbol('x')\n",
    "\n",
    "\n",
    "def get_symbolic_eqn(pwlf_, segment_number):\n",
    "    if pwlf_.degree < 1:\n",
    "        raise ValueError('Degree must be at least 1')\n",
    "    if segment_number < 1 or segment_number > pwlf_.n_segments:\n",
    "        raise ValueError('segment_number not possible')\n",
    "    # assemble degree = 1 first\n",
    "    for line in range(segment_number):\n",
    "        if line == 0:\n",
    "            my_eqn = pwlf_.beta[0] + (pwlf_.beta[1])*(x-pwlf_.fit_breaks[0])\n",
    "        else:\n",
    "            my_eqn += (pwlf_.beta[line+1])*(x-pwlf_.fit_breaks[line])\n",
    "    # assemble all other degrees\n",
    "    if pwlf_.degree > 1:\n",
    "        for k in range(2, pwlf_.degree + 1):\n",
    "            for line in range(segment_number):\n",
    "                beta_index = pwlf_.n_segments*(k-1) + line + 1\n",
    "                my_eqn += (pwlf_.beta[beta_index])*(x-pwlf_.fit_breaks[line])**k\n",
    "    return my_eqn.simplify()\n",
    "\n",
    "\n",
    "choice_degree=5\n",
    "eqn_list = []\n",
    "f_list = []\n",
    "for i in range(my_pwlf[choice_degree].n_segments):\n",
    "    eqn_list.append(get_symbolic_eqn(my_pwlf[choice_degree], i + 1))\n",
    "    print('Equation number: ', i + 1)\n",
    "    print(eqn_list[-1])\n",
    "    f_list.append(lambdify(x, eqn_list[-1]))\n",
    "\n",
    "print(\"break point:\",\"\\n\", my_pwlf[choice_degree].fit(choice_degree))\n"
   ]
  },
  {
   "cell_type": "code",
   "execution_count": null,
   "id": "f052e8cf-0eca-4b58-8415-24cd798f17a8",
   "metadata": {
    "execution": {
     "iopub.execute_input": "2024-08-05T09:35:16.996654Z",
     "iopub.status.busy": "2024-08-05T09:35:16.996080Z",
     "iopub.status.idle": "2024-08-05T09:35:18.740239Z",
     "shell.execute_reply": "2024-08-05T09:35:18.739856Z",
     "shell.execute_reply.started": "2024-08-05T09:35:16.996614Z"
    }
   },
   "outputs": [],
   "source": [
    "my_pwlf[choice_degree].fit(choice_degree)"
   ]
  },
  {
   "cell_type": "code",
   "execution_count": null,
   "id": "7bffaf5d-3465-48f5-a160-3b76c7ab8ca3",
   "metadata": {
    "execution": {
     "iopub.execute_input": "2024-08-05T09:34:55.420012Z",
     "iopub.status.busy": "2024-08-05T09:34:55.417826Z",
     "iopub.status.idle": "2024-08-05T09:34:57.410815Z",
     "shell.execute_reply": "2024-08-05T09:34:57.410335Z",
     "shell.execute_reply.started": "2024-08-05T09:34:55.419925Z"
    }
   },
   "outputs": [],
   "source": [
    "\n",
    "my_pwlf[degree].predict(my_pwlf[choice_degree].fit(choice_degree))"
   ]
  },
  {
   "cell_type": "code",
   "execution_count": null,
   "id": "7cc374ad-d772-4bd4-bdbd-64534fb6b55c",
   "metadata": {},
   "outputs": [],
   "source": []
  },
  {
   "cell_type": "code",
   "execution_count": null,
   "id": "ea8bfcda-fbe6-4736-8085-8719bc5b18ef",
   "metadata": {
    "execution": {
     "iopub.execute_input": "2024-08-05T09:46:03.443462Z",
     "iopub.status.busy": "2024-08-05T09:46:03.442480Z",
     "iopub.status.idle": "2024-08-05T09:48:52.574403Z",
     "shell.execute_reply": "2024-08-05T09:48:52.573987Z",
     "shell.execute_reply.started": "2024-08-05T09:46:03.443387Z"
    }
   },
   "outputs": [],
   "source": [
    "import numpy as np\n",
    "import matplotlib.pyplot as plt\n",
    "import pwlf\n",
    "\n",
    "\n",
    "x=np.linspace(-2.5,2.5,100)\n",
    "y_pdf=norm.pdf(x)\n",
    "\n",
    "degrees=list(range(3,10))\n",
    "pdf_pwlf={}\n",
    "y_pdf_hat={}\n",
    "breaks_pdf={}\n",
    "score_pdf={}\n",
    "\n",
    "for degree in degrees:\n",
    "    pdf_pwlf[degree] = pwlf.PiecewiseLinFit(x, y_pdf)\n",
    "    breaks_pdf[degree] = pdf_pwlf[degree].fit(degree)\n",
    "\n",
    "    y_pdf_hat[degree] = pdf_pwlf[degree].predict(x)\n",
    "    score_pdf[degree]= sum([(y_pdf_hat[degree][i]-y_pdf[i] )**2  for i in range(len(x))])\n",
    "\n",
    "\n",
    "plt.figure()\n",
    "plt.plot(score_pdf.keys(), score_pdf.values(), '-')\n",
    "plt.show()"
   ]
  },
  {
   "cell_type": "code",
   "execution_count": null,
   "id": "ed52ebbe-4051-4034-a5a2-b87903efb334",
   "metadata": {
    "execution": {
     "iopub.execute_input": "2024-08-05T09:50:02.436937Z",
     "iopub.status.busy": "2024-08-05T09:50:02.436295Z",
     "iopub.status.idle": "2024-08-05T09:50:02.529768Z",
     "shell.execute_reply": "2024-08-05T09:50:02.529312Z",
     "shell.execute_reply.started": "2024-08-05T09:50:02.436892Z"
    }
   },
   "outputs": [],
   "source": [
    "choice_degree=6\n",
    "plt.figure()\n",
    "plt.plot(x, y_pdf, 'o',markersize=2)\n",
    "plt.plot(x, y_pdf_hat[choice_degree], '-',markersize=1.5)\n",
    "plt.show()"
   ]
  },
  {
   "cell_type": "code",
   "execution_count": null,
   "id": "92b77d69-d496-4984-8a89-8e2ad7fdbbe6",
   "metadata": {
    "execution": {
     "iopub.execute_input": "2024-08-05T09:52:27.845923Z",
     "iopub.status.busy": "2024-08-05T09:52:27.844973Z",
     "iopub.status.idle": "2024-08-05T09:52:27.854817Z",
     "shell.execute_reply": "2024-08-05T09:52:27.853782Z",
     "shell.execute_reply.started": "2024-08-05T09:52:27.845848Z"
    }
   },
   "outputs": [],
   "source": [
    "breaks_pdf[choice_degree]"
   ]
  },
  {
   "cell_type": "code",
   "execution_count": null,
   "id": "dae1762b-5100-46b5-b0ff-9e19f5fc3cbb",
   "metadata": {
    "execution": {
     "iopub.execute_input": "2024-08-05T09:51:44.982171Z",
     "iopub.status.busy": "2024-08-05T09:51:44.981633Z",
     "iopub.status.idle": "2024-08-05T09:51:44.991161Z",
     "shell.execute_reply": "2024-08-05T09:51:44.990239Z",
     "shell.execute_reply.started": "2024-08-05T09:51:44.982133Z"
    }
   },
   "outputs": [],
   "source": [
    "pdf_pwlf[degree].predict(breaks_pdf[choice_degree].fit(choice_degree))"
   ]
  },
  {
   "cell_type": "code",
   "execution_count": null,
   "id": "2c47bd57",
   "metadata": {},
   "outputs": [],
   "source": [
    "# truncated normal distribution without the variance\n",
    "import numpy as np\n",
    "import matplotlib.pyplot as plt\n",
    "import pwlf\n",
    "\n",
    "\n",
    "def trunc_variance_1(x,y):\n",
    "    return y**2*(1- (x/y)*norm.pdf(-x/y)/(1-norm.cdf(-x/y)) -  (norm.pdf(-x/y)/(1-norm.cdf(-x/y)))**2 )\n",
    "\n",
    "def trunc_mean_1(x,y):\n",
    "    return x+y*norm.pdf(-x/y)/(1-norm.cdf(-x/y))\n",
    "\n",
    "def back_sigma(x,y):\n",
    "    return y**2\n",
    "\n",
    "\n",
    "mu=np.linspace(0, 10,1000)\n",
    "sigma=np.linspace(0, 10,1000)\n",
    "x_mu, y_sigma= np.meshgrid(mu, sigma)\n",
    "z_manual =np.array(trunc_variance_1(np.ravel(x_mu), np.ravel(y_sigma) ) )\n",
    "z_scipy = np.array(scipy.stats.truncnorm.var( 0, np.inf, loc=np.ravel(x_mu), scale=np.ravel(y_sigma) ))\n",
    "z_normal=np.array(back_sigma(np.ravel(x_mu), np.ravel(y_sigma) ) )\n",
    "\n",
    "Z_manual = z_manual.reshape(x_mu.shape)\n",
    "Z_scipy = z_scipy.reshape(x_mu.shape)\n",
    "Z_normal= z_normal.reshape(x_mu.shape)\n",
    "\n",
    "fig = plt.figure()\n",
    "ax = fig.add_subplot(111, projection='3d')\n",
    "\n",
    "ax.plot_surface(x_mu, y_sigma, Z_manual,label=\"Z_manual\")\n",
    "ax.plot_surface(x_mu, y_sigma, Z_normal ,label=\"Z_normal\")\n",
    "ax.plot_surface(x_mu, y_sigma, Z_scipy,label= \"Z_scipy\")\n",
    "\n",
    "ax.set_xlabel('mu')\n",
    "ax.set_ylabel('sigma')\n",
    "ax.set_zlabel('variance')"
   ]
  },
  {
   "cell_type": "code",
   "execution_count": null,
   "id": "ccd73086",
   "metadata": {},
   "outputs": [],
   "source": [
    "scipy.stats.truncnorm.var( 0,100, loc=4, scale=2 )"
   ]
  },
  {
   "cell_type": "code",
   "execution_count": null,
   "id": "39768c7c",
   "metadata": {},
   "outputs": [],
   "source": [
    "scipy.stats.norm.var( loc=4, scale=2)"
   ]
  },
  {
   "cell_type": "code",
   "execution_count": null,
   "id": "675bec6d",
   "metadata": {},
   "outputs": [],
   "source": [
    "mu=np.linspace(0, 10,1000)\n",
    "sigma=np.linspace(0, 10,1000)\n",
    "x_mu, y_sigma= np.meshgrid(mu, sigma)\n",
    "z_manual_mean =np.array(trunc_mean_1(np.ravel(x_mu), np.ravel(y_sigma) ) )\n",
    "z_scipy_mean = np.array(scipy.stats.truncnorm.mean( 0, np.inf, loc=np.ravel(x_mu), scale=np.ravel(y_sigma) ))\n",
    "\n",
    "Z_manual_mean = z_manual_mean.reshape(x_mu.shape)\n",
    "Z_scipy_mean = z_scipy_mean.reshape(x_mu.shape)\n",
    "\n",
    "fig = plt.figure()\n",
    "ax = fig.add_subplot(111, projection='3d')\n",
    "\n",
    "ax.plot_surface(x_mu, y_sigma, Z_manual_mean)\n",
    "ax.plot_surface(x_mu, y_sigma, Z_scipy_mean)\n",
    "\n",
    "ax.set_xlabel('mu')\n",
    "ax.set_ylabel('Sigma')\n",
    "ax.set_zlabel('Mean manual')\n"
   ]
  },
  {
   "cell_type": "code",
   "execution_count": null,
   "id": "fd839301",
   "metadata": {},
   "outputs": [],
   "source": [
    "print(trunc_variance_1(12,4))\n",
    "print(scipy.stats.truncnorm.var( 0, np.inf,12,4))"
   ]
  },
  {
   "cell_type": "code",
   "execution_count": null,
   "id": "b00ba596",
   "metadata": {},
   "outputs": [],
   "source": [
    "fig = plt.figure()\n",
    "ax = fig.add_subplot(111, projection='3d')\n",
    "\n",
    "ax.plot_surface(x_mu, y_sigma, Z_scipy)\n",
    "\n",
    "ax.set_xlabel('mu')\n",
    "ax.set_ylabel('sigma')\n",
    "ax.set_zlabel('Variance of Truncated from scipy')"
   ]
  },
  {
   "cell_type": "code",
   "execution_count": null,
   "id": "8ee4b018",
   "metadata": {},
   "outputs": [],
   "source": []
  },
  {
   "cell_type": "code",
   "execution_count": null,
   "id": "52ed64d6",
   "metadata": {},
   "outputs": [],
   "source": [
    "scipy.stats.truncnorm.var( 0, np.inf, loc=1 ,scale=5 )"
   ]
  },
  {
   "cell_type": "code",
   "execution_count": null,
   "id": "9a00418e",
   "metadata": {},
   "outputs": [],
   "source": [
    "x_test=np.linspace(0,10, 100)\n",
    "y_test=1\n",
    "plt.plot(x_test,trunc_variance_1(x_test,y_test))"
   ]
  },
  {
   "cell_type": "code",
   "execution_count": null,
   "id": "dbc79a30",
   "metadata": {},
   "outputs": [],
   "source": [
    "trunc_variance_1(4,1)"
   ]
  },
  {
   "cell_type": "code",
   "execution_count": null,
   "id": "dffcc7bf",
   "metadata": {},
   "outputs": [],
   "source": [
    "trunc_variance_1(4,y_test)"
   ]
  },
  {
   "cell_type": "code",
   "execution_count": null,
   "id": "30dbeb10",
   "metadata": {},
   "outputs": [],
   "source": [
    "plt.plot(x_test,scipy.stats.truncnorm.var( 0, np.inf, loc=x_test, scale=y_test  )) \n"
   ]
  },
  {
   "cell_type": "code",
   "execution_count": null,
   "id": "6fae7dc7",
   "metadata": {},
   "outputs": [],
   "source": []
  },
  {
   "cell_type": "code",
   "execution_count": null,
   "id": "14ee9493",
   "metadata": {},
   "outputs": [],
   "source": []
  },
  {
   "cell_type": "code",
   "execution_count": null,
   "id": "817c4479",
   "metadata": {},
   "outputs": [],
   "source": [
    "res_list=[]\n",
    "for a_lower_bound in range(10):\n",
    "\n",
    "    trunc_rand_sample=list(scipy.stats.truncnorm.rvs(a_lower_bound, np.inf, loc=10, scale=1 , size=1000000 ))\n",
    "    res=np.var(trunc_rand_sample)\n",
    "    res_list.append(res)\n",
    "\n",
    "plt.plot(list(range(10)), res_list)\n"
   ]
  },
  {
   "cell_type": "code",
   "execution_count": null,
   "id": "a61e50f2",
   "metadata": {},
   "outputs": [],
   "source": [
    "\n",
    "scipy.stats.truncnorm.mean(a=0, b=np.inf, loc=1, scale=4  )"
   ]
  },
  {
   "cell_type": "code",
   "execution_count": null,
   "id": "3ef3ffc3",
   "metadata": {},
   "outputs": [],
   "source": [
    "res=scipy.stats.truncnorm.rvs(a=0, b=np.inf, loc=1, scale=2 , size=1000 )"
   ]
  },
  {
   "cell_type": "code",
   "execution_count": null,
   "id": "da44492d",
   "metadata": {},
   "outputs": [],
   "source": []
  }
 ],
 "metadata": {
  "kernelspec": {
   "display_name": "py38",
   "language": "python",
   "name": "python3"
  },
  "language_info": {
   "codemirror_mode": {
    "name": "ipython",
    "version": 3
   },
   "file_extension": ".py",
   "mimetype": "text/x-python",
   "name": "python",
   "nbconvert_exporter": "python",
   "pygments_lexer": "ipython3",
   "version": "3.8.18"
  }
 },
 "nbformat": 4,
 "nbformat_minor": 5
}
